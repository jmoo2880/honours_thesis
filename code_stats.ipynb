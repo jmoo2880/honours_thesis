{
 "cells": [
  {
   "cell_type": "code",
   "execution_count": 1,
   "metadata": {},
   "outputs": [],
   "source": [
    "import json\n",
    "import os\n",
    "import fnmatch\n"
   ]
  },
  {
   "attachments": {},
   "cell_type": "markdown",
   "metadata": {},
   "source": [
    "# Lines of Code Count"
   ]
  },
  {
   "attachments": {},
   "cell_type": "markdown",
   "metadata": {},
   "source": [
    "#### Split count between ipynb and python files"
   ]
  },
  {
   "cell_type": "code",
   "execution_count": 35,
   "metadata": {},
   "outputs": [],
   "source": [
    "def count_python_lines(file_path):\n",
    "    with open(file_path, 'r') as f:\n",
    "        lines = f.readlines()\n",
    "    # filter out comments and blank lines\n",
    "    code_lines = [line for line in lines if not line.strip().startswith('#') and line.strip() != '']\n",
    "    \n",
    "    # count function defs\n",
    "    function_lines = [line for line in code_lines if line.strip().startswith('def ')]\n",
    "    \n",
    "    return len(code_lines), len(function_lines)"
   ]
  },
  {
   "attachments": {},
   "cell_type": "markdown",
   "metadata": {},
   "source": [
    "Test and check"
   ]
  },
  {
   "cell_type": "code",
   "execution_count": 36,
   "metadata": {},
   "outputs": [
    {
     "data": {
      "text/plain": [
       "(604, 113)"
      ]
     },
     "execution_count": 36,
     "metadata": {},
     "output_type": "execute_result"
    }
   ],
   "source": [
    "count_python_lines('C:/Users/Joshua/Desktop/honours_thesis/exploratory/odes.py')"
   ]
  },
  {
   "cell_type": "code",
   "execution_count": 37,
   "metadata": {},
   "outputs": [],
   "source": [
    "def count_notebook_lines(file_path):\n",
    "    with open(file_path, 'r') as file:\n",
    "        notebook = json.load(file)\n",
    "\n",
    "    lines_of_code = 0\n",
    "    function_defs = 0\n",
    "\n",
    "    for cell in notebook['cells']:\n",
    "        if cell['cell_type'] == 'code':\n",
    "            # filter out comments and blank lines\n",
    "            lines = [line for line in cell['source'] if not line.strip().startswith('#') and line.strip() != '']\n",
    "            lines_of_code += len(lines)\n",
    "             # count function def\n",
    "            functions = [line for line in lines if line.strip().startswith('def ')]\n",
    "            function_defs += len(functions)\n",
    "    \n",
    "    \n",
    "    return lines_of_code, function_defs"
   ]
  },
  {
   "cell_type": "code",
   "execution_count": 38,
   "metadata": {},
   "outputs": [
    {
     "data": {
      "text/plain": [
       "(220, 10)"
      ]
     },
     "execution_count": 38,
     "metadata": {},
     "output_type": "execute_result"
    }
   ],
   "source": [
    "count_notebook_lines('exploratory/euclidean_distance_analysis.ipynb')"
   ]
  },
  {
   "cell_type": "code",
   "execution_count": 39,
   "metadata": {},
   "outputs": [
    {
     "name": "stdout",
     "output_type": "stream",
     "text": [
      "Total lines of Python code: 19093\n",
      "Total function definitions: 786\n"
     ]
    }
   ],
   "source": [
    "total_lines = 0\n",
    "total_functions = 0\n",
    "\n",
    "for dirpath, dirs, files in os.walk('.'):  # Walk through all files in the current directory\n",
    "    for filename in fnmatch.filter(files, '*.py'):  # If file is a Python file\n",
    "        file_path = os.path.join(dirpath, filename)\n",
    "        line_count, func_count = count_python_lines(file_path)\n",
    "        total_lines += line_count\n",
    "        total_functions += func_count\n",
    "    for filename in fnmatch.filter(files, '*.ipynb'):  # If file is a Jupyter notebook\n",
    "        file_path = os.path.join(dirpath, filename)\n",
    "        line_count, func_count = count_notebook_lines(file_path)\n",
    "        total_lines += line_count\n",
    "        total_functions += func_count\n",
    "print('Total lines of Python code: {}'.format(total_lines))\n",
    "print('Total function definitions: {}'.format(total_functions))"
   ]
  },
  {
   "cell_type": "code",
   "execution_count": null,
   "metadata": {},
   "outputs": [],
   "source": []
  }
 ],
 "metadata": {
  "kernelspec": {
   "display_name": "complex",
   "language": "python",
   "name": "python3"
  },
  "language_info": {
   "codemirror_mode": {
    "name": "ipython",
    "version": 3
   },
   "file_extension": ".py",
   "mimetype": "text/x-python",
   "name": "python",
   "nbconvert_exporter": "python",
   "pygments_lexer": "ipython3",
   "version": "3.9.12"
  },
  "orig_nbformat": 4
 },
 "nbformat": 4,
 "nbformat_minor": 2
}
